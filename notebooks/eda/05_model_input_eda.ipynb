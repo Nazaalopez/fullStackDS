{
 "cells": [
  {
   "cell_type": "code",
   "execution_count": 17,
   "metadata": {},
   "outputs": [],
   "source": [
    "# Imports\n",
    "import pandas as pd\n",
    "import os\n",
    "import numpy as np\n",
    "from ydata_profiling import ProfileReport"
   ]
  },
  {
   "cell_type": "code",
   "execution_count": 18,
   "metadata": {},
   "outputs": [
    {
     "name": "stdout",
     "output_type": "stream",
     "text": [
      "<class 'pandas.core.frame.DataFrame'>\n",
      "RangeIndex: 4020 entries, 0 to 4019\n",
      "Data columns (total 21 columns):\n",
      " #   Column                 Non-Null Count  Dtype         \n",
      "---  ------                 --------------  -----         \n",
      " 0   PATIENT_ID             4020 non-null   object        \n",
      " 1   BIRTH_DT               4020 non-null   datetime64[ns]\n",
      " 2   PATIENT_AGE            4020 non-null   Int64         \n",
      " 3   PATIENT_GENDER         4020 non-null   category      \n",
      " 4   NUM_CONDITIONS         4020 non-null   Int64         \n",
      " 5   NUM_CONTRAINDICATIONS  4020 non-null   Int64         \n",
      " 6   TXN_DT                 4020 non-null   datetime64[ns]\n",
      " 7   HCP_ID                 3407 non-null   object        \n",
      " 8   TXN_LOCATION_TYPE      4020 non-null   category      \n",
      " 9   INSURANCE_TYPE         4020 non-null   category      \n",
      " 10  TXN_TYPE               4020 non-null   category      \n",
      " 11  TXN_DESC               4020 non-null   category      \n",
      " 12  RANK                   4020 non-null   int64         \n",
      " 13  PATIENT_AGE_DIAGNOSED  4020 non-null   int64         \n",
      " 14  STATE                  3407 non-null   category      \n",
      " 15  HCP_SPECIALTY          3407 non-null   category      \n",
      " 16  HCP_AGE                2665 non-null   Int64         \n",
      " 17  HCP_GENDER             3407 non-null   category      \n",
      " 18  STATE_NAME             3396 non-null   category      \n",
      " 19  DRUGA_COUNT            4020 non-null   Int64         \n",
      " 20  TARGET                 4020 non-null   Int64         \n",
      "dtypes: Int64(6), category(9), datetime64[ns](2), int64(2), object(2)\n",
      "memory usage: 445.2+ KB\n"
     ]
    }
   ],
   "source": [
    "# Read model_input\n",
    "dtype_dict = {'HCP_ID': 'str',\n",
    "    'PATIENT_AGE': 'Int64',\n",
    "    'PATIENT_GENDER': 'category',\n",
    "    'PATIENT_ID': 'str',\n",
    "    'STATE': 'category',\n",
    "    'HCP_SPECIALTY': 'category',\n",
    "    'HCP_AGE': 'Int64',\n",
    "    'HCP_GENDER': 'category',\n",
    "    'STATE_NAME': 'category',\n",
    "    'TXN_LOCATION_TYPE': 'category',\n",
    "    'INSURANCE_TYPE': 'category',\n",
    "    'TXN_TYPE': 'category',\n",
    "    'TXN_DESC': 'category',\n",
    "    'LOWCONT_COUNT': 'Int64',\n",
    "    'MEDCONT_COUNT': 'Int64',\n",
    "    'HIGHCONT_COUNT': 'Int64',\n",
    "    'NUM_CONDITIONS': 'Int64',\n",
    "    'NUM_CONTRAINDICATIONS': 'Int64',\n",
    "    'NUM_SYMPTOMS': 'Int64',\n",
    "    'DRUGA_COUNT': 'Int64',\n",
    "    'TARGET': 'Int64'}\n",
    "\n",
    "model_input = pd.read_csv('../../data/model_input/model_table.csv', dtype=dtype_dict)\n",
    "\n",
    "# Parse dates to datetime\n",
    "date_columns = ['TXN_DT', 'BIRTH_DT']\n",
    "for col in date_columns:\n",
    "    model_input[col] = pd.to_datetime(model_input[col], errors='coerce')\n",
    "\n",
    "\n",
    "model_input.info()"
   ]
  },
  {
   "cell_type": "code",
   "execution_count": 19,
   "metadata": {},
   "outputs": [],
   "source": [
    "# Create Profile Report\n",
    "profile = ProfileReport(model_input, title='Model Input Profiling Report', explorative=True)\n"
   ]
  },
  {
   "cell_type": "code",
   "execution_count": 20,
   "metadata": {},
   "outputs": [
    {
     "name": "stderr",
     "output_type": "stream",
     "text": [
      "Summarize dataset: 100%|██████████| 80/80 [01:51<00:00,  1.39s/it, Completed]                                           \n",
      "Generate report structure: 100%|██████████| 1/1 [00:01<00:00,  1.77s/it]\n",
      "Render HTML: 100%|██████████| 1/1 [00:06<00:00,  6.57s/it]\n",
      "Export report to file: 100%|██████████| 1/1 [00:00<00:00, 57.27it/s]\n"
     ]
    }
   ],
   "source": [
    "# Save Profile Report (html)\n",
    "profile.to_file('../../frontend/eda_reports/model_input_profiling_report.html')\n"
   ]
  }
 ],
 "metadata": {
  "kernelspec": {
   "display_name": ".venv",
   "language": "python",
   "name": "python3"
  },
  "language_info": {
   "codemirror_mode": {
    "name": "ipython",
    "version": 3
   },
   "file_extension": ".py",
   "mimetype": "text/x-python",
   "name": "python",
   "nbconvert_exporter": "python",
   "pygments_lexer": "ipython3",
   "version": "3.12.7"
  }
 },
 "nbformat": 4,
 "nbformat_minor": 2
}
