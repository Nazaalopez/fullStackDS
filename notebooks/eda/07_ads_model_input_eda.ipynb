{
 "cells": [
  {
   "cell_type": "code",
   "execution_count": 6,
   "metadata": {},
   "outputs": [],
   "source": [
    "# Imports\n",
    "import pandas as pd\n",
    "import os\n",
    "import numpy as np\n",
    "from ydata_profiling import ProfileReport"
   ]
  },
  {
   "cell_type": "code",
   "execution_count": 7,
   "metadata": {},
   "outputs": [
    {
     "name": "stdout",
     "output_type": "stream",
     "text": [
      "<class 'pandas.core.frame.DataFrame'>\n",
      "RangeIndex: 3407 entries, 0 to 3406\n",
      "Data columns (total 13 columns):\n",
      " #   Column                 Non-Null Count  Dtype         \n",
      "---  ------                 --------------  -----         \n",
      " 0   PATIENT_ID             3407 non-null   object        \n",
      " 1   PATIENT_GENDER         3407 non-null   category      \n",
      " 2   NUM_CONDITIONS         3407 non-null   Int64         \n",
      " 3   NUM_CONTRAINDICATIONS  3407 non-null   Int64         \n",
      " 4   TXN_DT                 3407 non-null   datetime64[ns]\n",
      " 5   HCP_ID                 3407 non-null   object        \n",
      " 6   TXN_LOCATION_TYPE      3407 non-null   category      \n",
      " 7   INSURANCE_TYPE         3407 non-null   category      \n",
      " 8   PATIENT_AGE_DIAGNOSED  3407 non-null   int64         \n",
      " 9   STATE                  3407 non-null   category      \n",
      " 10  HCP_SPECIALTY          3407 non-null   category      \n",
      " 11  HCP_GENDER             3407 non-null   category      \n",
      " 12  TARGET                 3407 non-null   Int64         \n",
      "dtypes: Int64(3), category(6), datetime64[ns](1), int64(1), object(2)\n",
      "memory usage: 223.2+ KB\n"
     ]
    }
   ],
   "source": [
    "# Read model_input\n",
    "dtype_dict = {'HCP_ID': 'str',\n",
    "    'PATIENT_AGE': 'Int64',\n",
    "    'PATIENT_GENDER': 'category',\n",
    "    'PATIENT_ID': 'str',\n",
    "    'STATE': 'category',\n",
    "    'HCP_SPECIALTY': 'category',\n",
    "    'HCP_AGE': 'Int64',\n",
    "    'HCP_GENDER': 'category',\n",
    "    'STATE_NAME': 'category',\n",
    "    'TXN_LOCATION_TYPE': 'category',\n",
    "    'INSURANCE_TYPE': 'category',\n",
    "    'TXN_TYPE': 'category',\n",
    "    'TXN_DESC': 'category',\n",
    "    'LOWCONT_COUNT': 'Int64',\n",
    "    'MEDCONT_COUNT': 'Int64',\n",
    "    'HIGHCONT_COUNT': 'Int64',\n",
    "    'NUM_CONDITIONS': 'Int64',\n",
    "    'NUM_CONTRAINDICATIONS': 'Int64',\n",
    "    'NUM_SYMPTOMS': 'Int64',\n",
    "    'DRUGA_COUNT': 'Int64',\n",
    "    'TARGET': 'Int64'}\n",
    "\n",
    "model_input = pd.read_csv('../../data/model_input/ads_model_table.csv', dtype=dtype_dict)\n",
    "\n",
    "# Parse dates to datetime\n",
    "date_columns = ['TXN_DT']\n",
    "for col in date_columns:\n",
    "    model_input[col] = pd.to_datetime(model_input[col], errors='coerce')\n",
    "\n",
    "\n",
    "model_input.info()"
   ]
  },
  {
   "cell_type": "code",
   "execution_count": 8,
   "metadata": {},
   "outputs": [],
   "source": [
    "# Create Profile Report\n",
    "profile = ProfileReport(model_input, title='ADS Model Input Profiling Report', explorative=True)"
   ]
  },
  {
   "cell_type": "code",
   "execution_count": 9,
   "metadata": {},
   "outputs": [
    {
     "name": "stderr",
     "output_type": "stream",
     "text": [
      "Summarize dataset: 100%|██████████| 47/47 [01:14<00:00,  1.59s/it, Completed]                                           \n",
      "Generate report structure: 100%|██████████| 1/1 [00:01<00:00,  1.12s/it]\n",
      "Render HTML: 100%|██████████| 1/1 [00:04<00:00,  4.29s/it]\n",
      "Export report to file: 100%|██████████| 1/1 [00:00<00:00, 77.89it/s]\n"
     ]
    }
   ],
   "source": [
    "# Save Profile Report (html)\n",
    "profile.to_file('../../frontend/eda_reports/ads_model_input_profiling_report.html')"
   ]
  }
 ],
 "metadata": {
  "kernelspec": {
   "display_name": ".venv",
   "language": "python",
   "name": "python3"
  },
  "language_info": {
   "codemirror_mode": {
    "name": "ipython",
    "version": 3
   },
   "file_extension": ".py",
   "mimetype": "text/x-python",
   "name": "python",
   "nbconvert_exporter": "python",
   "pygments_lexer": "ipython3",
   "version": "3.12.7"
  }
 },
 "nbformat": 4,
 "nbformat_minor": 2
}
