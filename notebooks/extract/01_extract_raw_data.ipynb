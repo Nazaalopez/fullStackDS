{
 "cells": [
  {
   "cell_type": "code",
   "execution_count": 7,
   "metadata": {},
   "outputs": [],
   "source": [
    "# Imports\n",
    "import pandas as pd\n",
    "import os\n",
    "\n",
    "# Read the Excel file\n",
    "raw_excel_file = pd.ExcelFile('../../files/instructions/DSI Interview Exercise - Dec 2024 (full stack candidate).xlsx')"
   ]
  },
  {
   "cell_type": "code",
   "execution_count": 3,
   "metadata": {},
   "outputs": [],
   "source": [
    "# Import sheets\n",
    "sheets = ['model_table', 'Data Dictionary', 'fact_txn', 'dim_patient', 'dim_physician']\n",
    "model_table, data_dic, fact_txn, dim_patient, dim_physician = (pd.read_excel(raw_excel_file, sheet) for sheet in sheets)"
   ]
  },
  {
   "cell_type": "code",
   "execution_count": 6,
   "metadata": {},
   "outputs": [],
   "source": [
    "# Define the path\n",
    "save_path = '../../data/raw/'\n",
    "\n",
    "# Save each dataframe as a CSV file\n",
    "for sheet, df in zip(sheets, [model_table, data_dic, fact_txn, dim_patient, dim_physician]):\n",
    "    df.to_csv(os.path.join(save_path, f'{sheet}.csv'), index=False)"
   ]
  }
 ],
 "metadata": {
  "kernelspec": {
   "display_name": ".venv",
   "language": "python",
   "name": "python3"
  },
  "language_info": {
   "codemirror_mode": {
    "name": "ipython",
    "version": 3
   },
   "file_extension": ".py",
   "mimetype": "text/x-python",
   "name": "python",
   "nbconvert_exporter": "python",
   "pygments_lexer": "ipython3",
   "version": "3.12.7"
  }
 },
 "nbformat": 4,
 "nbformat_minor": 2
}
